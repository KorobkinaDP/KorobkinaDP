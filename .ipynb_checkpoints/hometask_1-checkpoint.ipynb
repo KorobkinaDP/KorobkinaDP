{
 "cells": [
  {
   "cell_type": "code",
   "execution_count": 24,
   "metadata": {},
   "outputs": [],
   "source": [
    "class Test:\n",
    "    @staticmethod\n",
    "    def assert_equals(a, b, *args, **kwargs):\n",
    "        assert a == b\n",
    "        print('Passed')"
   ]
  },
  {
   "cell_type": "markdown",
   "metadata": {},
   "source": [
    "Problem https://edabit.com/challenge/DbFcBJiRz3GDm6xns (1 point)"
   ]
  },
  {
   "cell_type": "code",
   "execution_count": 31,
   "metadata": {},
   "outputs": [],
   "source": [
    "def absolute(n):\n",
    "    if n >= 0:\n",
    "        return(n)\n",
    "    elif n < 0:\n",
    "        return(-n)"
   ]
  },
  {
   "cell_type": "code",
   "execution_count": 46,
   "metadata": {},
   "outputs": [
    {
     "name": "stdout",
     "output_type": "stream",
     "text": [
      "Passed\n",
      "Passed\n",
      "Passed\n",
      "Passed\n",
      "Passed\n",
      "Passed\n"
     ]
    }
   ],
   "source": [
    "Test.assert_equals(absolute(-5), 5)\n",
    "Test.assert_equals(absolute(-3.14), 3.14)\n",
    "Test.assert_equals(absolute(250), 250)\n",
    "Test.assert_equals(absolute(0), 0)\n",
    "Test.assert_equals(absolute(6.28), 6.28)\n",
    "Test.assert_equals(absolute(11037), 11037)"
   ]
  },
  {
   "cell_type": "markdown",
   "metadata": {},
   "source": [
    "Problem https://edabit.com/challenge/p88k8yHRPTMPt4bBo (2 points)"
   ]
  },
  {
   "cell_type": "code",
   "execution_count": 50,
   "metadata": {},
   "outputs": [],
   "source": [
    "def count_vowels(txt):\n",
    "    i = 0\n",
    "    k = 0\n",
    "    vowels = {'a', 'e', 'i', 'o', 'u'}\n",
    "    for i in range(len(txt)):\n",
    "        if txt[i] in vowels:\n",
    "            k = k + 1\n",
    "    return k"
   ]
  },
  {
   "cell_type": "code",
   "execution_count": 51,
   "metadata": {},
   "outputs": [
    {
     "name": "stdout",
     "output_type": "stream",
     "text": [
      "Passed\n",
      "Passed\n",
      "Passed\n",
      "Passed\n",
      "Passed\n",
      "Passed\n",
      "Passed\n",
      "Passed\n",
      "Passed\n",
      "Passed\n"
     ]
    }
   ],
   "source": [
    "Test.assert_equals(count_vowels(\"Celebration\"), 5)\n",
    "Test.assert_equals(count_vowels(\"Palm\"), 1)\n",
    "Test.assert_equals(count_vowels(\"Prediction\"), 4)\n",
    "Test.assert_equals(count_vowels(\"Suite\"), 3)\n",
    "Test.assert_equals(count_vowels(\"Quote\"), 3)\n",
    "Test.assert_equals(count_vowels(\"Portrait\"), 3)\n",
    "Test.assert_equals(count_vowels(\"Steam\"), 2)\n",
    "Test.assert_equals(count_vowels(\"Tape\"), 2)\n",
    "Test.assert_equals(count_vowels(\"Nightmare\"), 3)\n",
    "Test.assert_equals(count_vowels(\"Convention\"), 4)"
   ]
  },
  {
   "cell_type": "markdown",
   "metadata": {},
   "source": [
    "Problem https://edabit.com/challenge/PNbsQzmDR3CJ9JHkB (3 points)"
   ]
  },
  {
   "cell_type": "code",
   "execution_count": 52,
   "metadata": {},
   "outputs": [],
   "source": [
    "def fact(n):\n",
    "    if n == 0:\n",
    "        return 1\n",
    "    elif n != 1:\n",
    "        return n * fact(n - 1)\n",
    "    else:\n",
    "        return 1"
   ]
  },
  {
   "cell_type": "code",
   "execution_count": 53,
   "metadata": {},
   "outputs": [
    {
     "name": "stdout",
     "output_type": "stream",
     "text": [
      "Passed\n",
      "Passed\n",
      "Passed\n",
      "Passed\n",
      "Passed\n",
      "Passed\n",
      "Passed\n"
     ]
    }
   ],
   "source": [
    "Test.assert_equals(fact(0), 1)\n",
    "Test.assert_equals(fact(1), 1)\n",
    "Test.assert_equals(fact(2), 2)\n",
    "Test.assert_equals(fact(3), 6)\n",
    "Test.assert_equals(fact(7), 5040)\n",
    "Test.assert_equals(fact(9), 362880)\n",
    "Test.assert_equals(fact(15), 1307674368000)"
   ]
  },
  {
   "cell_type": "markdown",
   "metadata": {},
   "source": [
    "Problem https://edabit.com/challenge/jwzAdBnJnBxCe4AXP (Points 4)"
   ]
  },
  {
   "cell_type": "code",
   "execution_count": 55,
   "metadata": {},
   "outputs": [],
   "source": [
    "def rearranged_difference(num):\n",
    "    maxi = 0\n",
    "    mini = 0\n",
    "    d = ''\n",
    "    digits = []\n",
    "    while num != 0:\n",
    "        d = str(num % 10)\n",
    "        digits.append(d)\n",
    "        num = num // 10\n",
    "    digits.sort()\n",
    "    mini = int(\"\".join(digits))\n",
    "    for i in range(len(digits)):\n",
    "        digits[i] = int(digits[i])\n",
    "        digits[i] = - digits[i]\n",
    "    digits.sort()\n",
    "    for i in range(len(digits)):\n",
    "        digits[i] = - digits[i]\n",
    "        digits[i] = str(digits[i])\n",
    "    maxi = int(\"\".join(digits))\n",
    "    return maxi - mini\n"
   ]
  },
  {
   "cell_type": "code",
   "execution_count": 56,
   "metadata": {},
   "outputs": [
    {
     "name": "stdout",
     "output_type": "stream",
     "text": [
      "Passed\n",
      "Passed\n",
      "Passed\n",
      "Passed\n",
      "Passed\n",
      "Passed\n",
      "Passed\n",
      "Passed\n",
      "Passed\n",
      "Passed\n",
      "Passed\n",
      "Passed\n",
      "Passed\n",
      "Passed\n",
      "Passed\n",
      "Passed\n",
      "Passed\n",
      "Passed\n",
      "Passed\n",
      "Passed\n"
     ]
    }
   ],
   "source": [
    "Test.assert_equals(rearranged_difference(9092564), 9719721)\n",
    "Test.assert_equals(rearranged_difference(1308821), 8719722)\n",
    "Test.assert_equals(rearranged_difference(8386568), 5319765)\n",
    "Test.assert_equals(rearranged_difference(7794084), 9429651)\n",
    "Test.assert_equals(rearranged_difference(6366093), 9329661)\n",
    "Test.assert_equals(rearranged_difference(7863060), 8729622)\n",
    "Test.assert_equals(rearranged_difference(3368327), 6429654)\n",
    "Test.assert_equals(rearranged_difference(7218787), 7599933)\n",
    "Test.assert_equals(rearranged_difference(7723188), 7639533)\n",
    "Test.assert_equals(rearranged_difference(8816317), 7739523)\n",
    "Test.assert_equals(rearranged_difference(8824349), 7539543)\n",
    "Test.assert_equals(rearranged_difference(3320707), 7709823)\n",
    "Test.assert_equals(rearranged_difference(1695488), 8429652)\n",
    "Test.assert_equals(rearranged_difference(2120034), 4309866)\n",
    "Test.assert_equals(rearranged_difference(5300586), 8619732)\n",
    "Test.assert_equals(rearranged_difference(3538814), 7519743)\n",
    "Test.assert_equals(rearranged_difference(1336939), 8629632)\n",
    "Test.assert_equals(rearranged_difference(6290200), 9619731)\n",
    "Test.assert_equals(rearranged_difference(5268866), 6299964)\n",
    "Test.assert_equals(rearranged_difference(5155458), 7099983)"
   ]
  },
  {
   "cell_type": "markdown",
   "metadata": {},
   "source": [
    "Problem https://edabit.com/challenge/vLLXeQH5tgyvbzYZS (5 Points)"
   ]
  },
  {
   "cell_type": "code",
   "execution_count": 58,
   "metadata": {},
   "outputs": [],
   "source": [
    "def gcd(a,b):\n",
    "    while a != b:\n",
    "        if a > b:\n",
    "            a = a - b\n",
    "        else:\n",
    "            b = b - a\n",
    "    return a\n",
    "\n",
    "\n",
    "def is_prim_pyth_triple(lst):\n",
    "    lst.sort()\n",
    "    if lst[2] ** 2 == lst[0] ** 2 + lst[1] ** 2:\n",
    "        if gcd(lst[0], lst[1]) == 1 and gcd(lst[0], lst[2]) == 1 and gcd(lst[1], lst[2]) == 1:\n",
    "            return True\n",
    "        else:\n",
    "            return False\n",
    "    else:\n",
    "        return False\n"
   ]
  },
  {
   "cell_type": "code",
   "execution_count": 59,
   "metadata": {},
   "outputs": [
    {
     "name": "stdout",
     "output_type": "stream",
     "text": [
      "Passed\n",
      "Passed\n",
      "Passed\n",
      "Passed\n",
      "Passed\n",
      "Passed\n"
     ]
    }
   ],
   "source": [
    "Test.assert_equals(is_prim_pyth_triple([4,5,3]), True)\n",
    "Test.assert_equals(is_prim_pyth_triple([7,12,13]), False)\n",
    "Test.assert_equals(is_prim_pyth_triple([39,15,36]), False,'Pythagorean triple, but not primitive')\n",
    "Test.assert_equals(is_prim_pyth_triple([77,36,85]), True)\n",
    "Test.assert_equals(is_prim_pyth_triple([35,28,21]), False)\n",
    "Test.assert_equals(is_prim_pyth_triple([80,89,39]), True)"
   ]
  },
  {
   "cell_type": "code",
   "execution_count": null,
   "metadata": {},
   "outputs": [],
   "source": []
  }
 ],
 "metadata": {
  "kernelspec": {
   "display_name": "Python 3",
   "language": "python",
   "name": "python3"
  },
  "language_info": {
   "codemirror_mode": {
    "name": "ipython",
    "version": 3
   },
   "file_extension": ".py",
   "mimetype": "text/x-python",
   "name": "python",
   "nbconvert_exporter": "python",
   "pygments_lexer": "ipython3",
   "version": "3.7.0"
  }
 },
 "nbformat": 4,
 "nbformat_minor": 2
}
